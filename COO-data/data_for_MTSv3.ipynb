{
 "cells": [
  {
   "cell_type": "markdown",
   "id": "central-bowling",
   "metadata": {},
   "source": [
    "Make MTSv3 data in the same data format as CTW1500. <br>\n",
    "Use detection only mode of MTSv3 -> use \"dummy\" label for word"
   ]
  },
  {
   "cell_type": "code",
   "execution_count": 1,
   "id": "democratic-nebraska",
   "metadata": {},
   "outputs": [
    {
     "name": "stdout",
     "output_type": "stream",
     "text": [
      "train\n",
      "val\n",
      "test\n"
     ]
    }
   ],
   "source": [
    "import xml.etree.ElementTree as ET\n",
    "import os\n",
    "import shutil\n",
    "from natsort import natsorted\n",
    "\n",
    "for data_split in [\"train\", \"val\", \"test\"]:\n",
    "    print(data_split)\n",
    "    with open(f'./books_{data_split}.txt', 'r') as book_list:\n",
    "        manga_list = book_list.readlines()\n",
    "    \n",
    "    os.makedirs(f\"./MTSv3_data/{data_split}_images/\", exist_ok=True)\n",
    "    os.makedirs(f\"./MTSv3_data/{data_split}_gts/\", exist_ok=True)\n",
    "    \n",
    "    for manga_name in natsorted(manga_list):\n",
    "        manga_name = manga_name.strip()\n",
    "        \n",
    "        tree = ET.parse(f'./annotations/{manga_name}.xml')\n",
    "        root = tree.getroot()\n",
    "        \n",
    "        for page in root.iter('page'):\n",
    "            page_index = page.attrib[\"index\"]\n",
    "            new_tree = ''\n",
    "            new_element = ET.Element('Annotations')\n",
    "            with open(f'./MTSv3_data/{data_split}_gts/{manga_name}_{page_index}.jpg.txt', 'w', encoding=\"utf-8\") as file:\n",
    "                for onomatopoeia in page.iter('onomatopoeia'):\n",
    "                    attrib = onomatopoeia.attrib \n",
    "\n",
    "                    x_list = []\n",
    "                    y_list = []\n",
    "                    for key, val in attrib.items():\n",
    "                        if key == 'id': \n",
    "                            continue\n",
    "\n",
    "                        elif 'x' in key:\n",
    "                            x_list.append(int(val))\n",
    "\n",
    "                        elif 'y' in key:\n",
    "                            y_list.append(int(val))\n",
    "\n",
    "                    if len(x_list) == 2: # rectangle 일때.\n",
    "                        x_list = [x_list[0], x_list[1], x_list[1], x_list[0]]\n",
    "                        y_list = [y_list[0], y_list[0], y_list[1], y_list[1]]\n",
    "\n",
    "                    point_list = []\n",
    "                    for x, y in zip(x_list, y_list):\n",
    "                        point_list.append(str(x))\n",
    "                        point_list.append(str(y))\n",
    "                    # print(point_list)\n",
    "\n",
    "                    label = \"dummy\"\n",
    "                    point_list = \",\".join(point_list)\n",
    "                    file.write(f\"{point_list},{label}\\n\")\n",
    "\n",
    "            page_index_zfill = page_index.zfill(3)\n",
    "            shutil.copyfile(f\"./images/{manga_name}/{page_index_zfill}.jpg\", f\"./MTSv3_data/{data_split}_images/{manga_name}_{page_index}.jpg\")"
   ]
  },
  {
   "cell_type": "code",
   "execution_count": 2,
   "id": "aa52ea8e",
   "metadata": {},
   "outputs": [
    {
     "name": "stdout",
     "output_type": "stream",
     "text": [
      "train\n"
     ]
    }
   ],
   "source": [
    "\"\"\"To train with bbox annotation. to compare bbox with polygon annotation\"\"\"\n",
    "import xml.etree.ElementTree as ET\n",
    "import os\n",
    "import shutil\n",
    "from natsort import natsorted\n",
    "\n",
    "for data_split in [\"train\"]:\n",
    "    print(data_split)\n",
    "    with open(f'./books_{data_split}.txt', 'r') as book_list:\n",
    "        manga_list = book_list.readlines()\n",
    "    \n",
    "    os.makedirs(f\"./MTSv3_data/{data_split}_images_bbox/\", exist_ok=True)\n",
    "    os.makedirs(f\"./MTSv3_data/{data_split}_gts_bbox/\", exist_ok=True)\n",
    "    \n",
    "    for manga_name in natsorted(manga_list):\n",
    "        manga_name = manga_name.strip()\n",
    "        \n",
    "        tree = ET.parse(f'./annotations/{manga_name}.xml')\n",
    "        root = tree.getroot()\n",
    "        \n",
    "        for page in root.iter('page'):\n",
    "            page_index = page.attrib[\"index\"]\n",
    "            new_tree = ''\n",
    "            new_element = ET.Element('Annotations')\n",
    "            with open(f'./MTSv3_data/{data_split}_gts_bbox/{manga_name}_{page_index}.jpg.txt', 'w', encoding=\"utf-8\") as file:\n",
    "                for onomatopoeia in page.iter('onomatopoeia'):\n",
    "                    attrib = onomatopoeia.attrib \n",
    "\n",
    "                    x_list = []\n",
    "                    y_list = []\n",
    "                    for key, val in attrib.items():\n",
    "                        if key == 'id': \n",
    "                            continue\n",
    "\n",
    "                        elif 'x' in key:\n",
    "                            x_list.append(int(val))\n",
    "\n",
    "                        elif 'y' in key:\n",
    "                            y_list.append(int(val))\n",
    "\n",
    "                    if len(x_list) == 2: # rectangle 일때.\n",
    "                        x_list = [x_list[0], x_list[1], x_list[1], x_list[0]]\n",
    "                        y_list = [y_list[0], y_list[0], y_list[1], y_list[1]]\n",
    "                    \n",
    "                    xmin = str(min(x_list))\n",
    "                    ymin = str(min(y_list))\n",
    "                    xmax = str(max(x_list))\n",
    "                    ymax = str(max(y_list))\n",
    "                    # bbox!\n",
    "                    point_list = [xmin, ymin, xmax, ymin, xmax, ymax, xmin, ymax]\n",
    "                    \n",
    "                    label = \"dummy\"\n",
    "                    point_list = \",\".join(point_list)\n",
    "                    file.write(f\"{point_list},{label}\\n\")\n",
    "\n",
    "            page_index_zfill = page_index.zfill(3)\n",
    "            shutil.copyfile(f\"./images/{manga_name}/{page_index_zfill}.jpg\", f\"./MTSv3_data/{data_split}_images_bbox/{manga_name}_{page_index}.jpg\")"
   ]
  },
  {
   "cell_type": "code",
   "execution_count": null,
   "id": "c1842e2e",
   "metadata": {},
   "outputs": [],
   "source": []
  }
 ],
 "metadata": {
  "kernelspec": {
   "display_name": "Python 3 (ipykernel)",
   "language": "python",
   "name": "python3"
  },
  "language_info": {
   "codemirror_mode": {
    "name": "ipython",
    "version": 3
   },
   "file_extension": ".py",
   "mimetype": "text/x-python",
   "name": "python",
   "nbconvert_exporter": "python",
   "pygments_lexer": "ipython3",
   "version": "3.8.12"
  }
 },
 "nbformat": 4,
 "nbformat_minor": 5
}
