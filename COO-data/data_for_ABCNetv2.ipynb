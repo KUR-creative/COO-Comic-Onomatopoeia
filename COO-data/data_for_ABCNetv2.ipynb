{
 "cells": [
  {
   "cell_type": "markdown",
   "id": "central-bowling",
   "metadata": {},
   "source": [
    "Make ABCNet data in the same data format as CTW1500. <br>\n",
    "We provide gt annotations (e.g. `train.json`) made by preprocessing code provided in ABCNet repository. "
   ]
  },
  {
   "cell_type": "code",
   "execution_count": 1,
   "id": "8c3e0840",
   "metadata": {},
   "outputs": [
    {
     "name": "stdout",
     "output_type": "stream",
     "text": [
      "train\n",
      "val\n",
      "test\n"
     ]
    }
   ],
   "source": [
    "import xml.etree.ElementTree as ET\n",
    "import os\n",
    "import shutil\n",
    "from natsort import natsorted\n",
    "\n",
    "for data_split in [\"train\", \"val\", \"test\"]:\n",
    "    print(data_split)\n",
    "    with open(f'./books_{data_split}.txt', 'r') as book_list:\n",
    "        manga_list = book_list.readlines()\n",
    "    \n",
    "    os.makedirs(f\"./ABCNetv2_data/{data_split}_images/\", exist_ok=True)\n",
    "    \n",
    "    for manga_name in natsorted(manga_list):\n",
    "        manga_name = manga_name.strip()\n",
    "        \n",
    "        tree = ET.parse(f'./annotations/{manga_name}.xml')\n",
    "        root = tree.getroot()\n",
    "        \n",
    "        for page in root.iter('page'):\n",
    "            page_index = page.attrib[\"index\"]\n",
    "            page_index_zfill = page_index.zfill(3)\n",
    "            shutil.copyfile(f\"./images/{manga_name}/{page_index_zfill}.jpg\", f\"./ABCNetv2_data/{data_split}_images/{manga_name}_{page_index}.jpg\")"
   ]
  }
 ],
 "metadata": {
  "kernelspec": {
   "display_name": "Python 3 (ipykernel)",
   "language": "python",
   "name": "python3"
  },
  "language_info": {
   "codemirror_mode": {
    "name": "ipython",
    "version": 3
   },
   "file_extension": ".py",
   "mimetype": "text/x-python",
   "name": "python",
   "nbconvert_exporter": "python",
   "pygments_lexer": "ipython3",
   "version": "3.8.12"
  }
 },
 "nbformat": 4,
 "nbformat_minor": 5
}
